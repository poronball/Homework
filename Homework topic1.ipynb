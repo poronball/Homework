{
 "cells": [
  {
   "cell_type": "code",
   "execution_count": 46,
   "id": "f92f3642",
   "metadata": {
    "scrolled": false
   },
   "outputs": [
    {
     "name": "stdout",
     "output_type": "stream",
     "text": [
      "Введите год 2020\n",
      "Високосный \n"
     ]
    }
   ],
   "source": [
    "year = int(input('Введите год '))\n",
    "year = year % 4\n",
    "if year == 0:\n",
    "    print(\"Високосный \")\n",
    "else:\n",
    "    print(\"Обычный год\")"
   ]
  },
  {
   "cell_type": "code",
   "execution_count": 73,
   "id": "ebda7918",
   "metadata": {},
   "outputs": [
    {
     "name": "stdout",
     "output_type": "stream",
     "text": [
      "Введите номер билета 123006\n",
      "Счастливый билет!\n"
     ]
    }
   ],
   "source": [
    "ticket = int(input('Введите номер билета '))\n",
    "num1 = ticket % 10\n",
    "num2 = ticket % 100 // 10\n",
    "num3 = ticket % 1000 // 100\n",
    "num4 = ticket % 10000 // 1000\n",
    "num5 = ticket % 100000 // 10000\n",
    "num6 = ticket % 1000000 // 100000\n",
    "if num1 + num2 + num3 == num4 + num5 + num6:\n",
    "    print(\"Счастливый билет!\")\n",
    "else:\n",
    "    print(\"Несчастливый билет\")"
   ]
  },
  {
   "cell_type": "code",
   "execution_count": null,
   "id": "e3d30cbf",
   "metadata": {},
   "outputs": [],
   "source": []
  }
 ],
 "metadata": {
  "kernelspec": {
   "display_name": "Python 3 (ipykernel)",
   "language": "python",
   "name": "python3"
  },
  "language_info": {
   "codemirror_mode": {
    "name": "ipython",
    "version": 3
   },
   "file_extension": ".py",
   "mimetype": "text/x-python",
   "name": "python",
   "nbconvert_exporter": "python",
   "pygments_lexer": "ipython3",
   "version": "3.9.12"
  }
 },
 "nbformat": 4,
 "nbformat_minor": 5
}
