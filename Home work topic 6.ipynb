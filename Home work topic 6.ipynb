{
 "cells": [
  {
   "cell_type": "markdown",
   "id": "35971683",
   "metadata": {},
   "source": [
    "Задание 1"
   ]
  },
  {
   "cell_type": "code",
   "execution_count": 40,
   "id": "078a96d6",
   "metadata": {},
   "outputs": [
    {
     "name": "stdout",
     "output_type": "stream",
     "text": [
      "2002-10-01 00:00:00\n",
      "2013-11-10 00:00:00\n",
      "1977-08-18 00:00:00\n"
     ]
    }
   ],
   "source": [
    "from datetime import datetime\n",
    "\n",
    "The_Moscow_Times = 'Wednesday, October 2, 2002'\n",
    "The_Guardian = 'Friday, 11.10.13'\n",
    "Daily_News = 'Thursday, 18 August 1977'\n",
    "\n",
    "dt_The_Moscow_Times = datetime.strptime('Wednesday, October 2, 2002', '%A, %B %w, %Y')\n",
    "dt_The_Guardian = datetime.strptime('Friday, 11.10.13', '%A, %m.%d.%y')\n",
    "dt_Daily_News = datetime.strptime('Thursday, 18 August 1977', '%A, %d %B %Y')\n",
    "\n",
    "print(dt_The_Moscow_Times)\n",
    "print(dt_The_Guardian)\n",
    "print(dt_Daily_News)\n"
   ]
  },
  {
   "cell_type": "markdown",
   "id": "6149b901",
   "metadata": {},
   "source": [
    "Задание 2"
   ]
  },
  {
   "cell_type": "code",
   "execution_count": 141,
   "id": "ed90680e",
   "metadata": {},
   "outputs": [
    {
     "data": {
      "text/plain": [
       "[]"
      ]
     },
     "execution_count": 141,
     "metadata": {},
     "output_type": "execute_result"
    }
   ],
   "source": [
    "from datetime import timedelta\n",
    "\n",
    "def date_range(start_date, end_date):\n",
    "    \n",
    "    range_date = []\n",
    "    \n",
    "    try:\n",
    "        dt_start_date = datetime.strptime(start_date, '%Y-%m-%d')\n",
    "        dt_end_date = datetime.strptime(end_date, '%Y-%m-%d')\n",
    "    except:\n",
    "        return range_date\n",
    "        \n",
    "    if dt_start_date > dt_end_date:\n",
    "        return range_date\n",
    "    \n",
    "    else:\n",
    "        while dt_start_date <= dt_end_date:\n",
    "            range_date.append(dt_start_date.strftime('%Y-%m-%d'))\n",
    "            dt_start_date += timedelta(days=1)\n",
    "        return range_date\n",
    "\n",
    "# date_range('2022-01-01', '2022-01-03')\n",
    "# date_range('2022-01-03', '2022-01-01')\n",
    "date_range('2022-02-30', '2022-02-31')\n"
   ]
  }
 ],
 "metadata": {
  "kernelspec": {
   "display_name": "Python 3 (ipykernel)",
   "language": "python",
   "name": "python3"
  },
  "language_info": {
   "codemirror_mode": {
    "name": "ipython",
    "version": 3
   },
   "file_extension": ".py",
   "mimetype": "text/x-python",
   "name": "python",
   "nbconvert_exporter": "python",
   "pygments_lexer": "ipython3",
   "version": "3.9.12"
  }
 },
 "nbformat": 4,
 "nbformat_minor": 5
}
