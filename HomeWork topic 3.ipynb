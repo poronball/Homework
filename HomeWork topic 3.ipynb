{
 "cells": [
  {
   "cell_type": "code",
   "execution_count": 320,
   "id": "94579a98",
   "metadata": {},
   "outputs": [
    {
     "name": "stdout",
     "output_type": "stream",
     "text": [
      "{98, 35, 15, 213, 54, 119}\n"
     ]
    }
   ],
   "source": [
    "ids = {'user1': [213, 213, 213, 15, 213], \n",
    "       'user2': [54, 54, 119, 119, 119], \n",
    "       'user3': [213, 98, 98, 35]}\n",
    "print(set(ids['user1'] + ids['user2'] + ids['user3']))"
   ]
  },
  {
   "cell_type": "code",
   "execution_count": 324,
   "id": "2b1e9f80",
   "metadata": {},
   "outputs": [
    {
     "name": "stdout",
     "output_type": "stream",
     "text": [
      "Поисковых запросов, содержащих 2 слов(а): 43\n",
      "Поисковых запросов, содержащих 3 слов(а): 57\n"
     ]
    }
   ],
   "source": [
    "queries = [\n",
    "    'смотреть сериалы онлайн',\n",
    "    'новости спорта',\n",
    "    'афиша кино',\n",
    "    'курс доллара',\n",
    "    'сериалы этим летом',\n",
    "    'курс по питону',\n",
    "    'сериалы про спорт',\n",
    "]\n",
    "count = 0\n",
    "count_two_words = 0\n",
    "count_three_words = 0\n",
    "for string in queries: \n",
    "    count = len((string).split(' '))\n",
    "    if count == 2:\n",
    "        count_two_words += 1\n",
    "    else:\n",
    "        count_three_words += 1\n",
    "percent = (round((count_two_words/(count_two_words + count_three_words))*100))\n",
    "print(f'Поисковых запросов, содержащих 2 слов(а): {percent}')\n",
    "print(f'Поисковых запросов, содержащих 3 слов(а): {100 - percent}')"
   ]
  },
  {
   "cell_type": "code",
   "execution_count": 422,
   "id": "49581587",
   "metadata": {},
   "outputs": [
    {
     "name": "stdout",
     "output_type": "stream",
     "text": [
      "vk :  ROI: 5.1 cost: 103 revenue: 98\n",
      "yandex :  ROI: 17.0 cost: 179 revenue: 153\n",
      "facebook :  ROI: -6.4 cost: 103 revenue: 110\n",
      "adwords :  ROI: 2.9 cost: 35 revenue: 34\n",
      "twitter :  ROI: -54.2 cost: 11 revenue: 24\n"
     ]
    }
   ],
   "source": [
    "results = {\n",
    "    'vk': {'revenue': 103, 'cost': 98},\n",
    "    'yandex': {'revenue': 179, 'cost': 153},\n",
    "    'facebook': {'revenue': 103, 'cost': 110},\n",
    "    'adwords': {'revenue': 35, 'cost': 34},\n",
    "    'twitter': {'revenue': 11, 'cost': 24},\n",
    "}\n",
    "for key, value in results.items():\n",
    "    value['ROI'] = ((value['revenue'] / value['cost'] - 1) * 100)\n",
    "    value['ROI'] = round(value['ROI'], 1) #Почему при округлении в предыдущей строке значение берется в скобки?\n",
    "#     print(value['ROI'])\n",
    "    print(key,': ','ROI:', value['ROI'], 'cost:', value['revenue'], 'revenue:', value['cost'])"
   ]
  },
  {
   "cell_type": "code",
   "execution_count": 522,
   "id": "ea89f58c",
   "metadata": {},
   "outputs": [
    {
     "name": "stdout",
     "output_type": "stream",
     "text": [
      "dict_values([55, 120, 99, 42, 98, 115])\n",
      "Максимальный объем продаж на рекламном канале: vk\n"
     ]
    }
   ],
   "source": [
    "stats = {'facebook': 55, 'vk': 120, 'google': 99, 'email': 42, 'ok': 98, 'yandex': 115}\n",
    "count_sale = 0\n",
    "buffer = ''\n",
    "for company, value in stats.items():\n",
    "    if value >= count_sale:\n",
    "        count_sale = value\n",
    "        buffer = company\n",
    "print(f'Максимальный объем продаж на рекламном канале: {buffer}')"
   ]
  },
  {
   "cell_type": "code",
   "execution_count": 8,
   "id": "76f0d741",
   "metadata": {},
   "outputs": [
    {
     "name": "stdout",
     "output_type": "stream",
     "text": [
      "Введите значения цен через пробел 1 b 3 b\n",
      "{'1': {'b': {'3': 'b'}}}\n"
     ]
    }
   ],
   "source": [
    "newlist = [str(i) for i in input('Введите значения цен через пробел ').split()]\n",
    "#newlist = ['a', 'b', 'c', 'd', 'e', 'f']\n",
    "\n",
    "finish_dict = {newlist[-2]: newlist[-1]}\n",
    "for attach in newlist[:-2][::-1]:\n",
    "    finish_dict = {attach: finish_dict}\n",
    "print(finish_dict)"
   ]
  },
  {
   "cell_type": "code",
   "execution_count": 39,
   "id": "e9873cce",
   "metadata": {},
   "outputs": [
    {
     "name": "stdout",
     "output_type": "stream",
     "text": [
      "Введите количество персон 2\n",
      "Салат\n",
      "сыр 100 гр\n",
      "томаты 4 шт\n",
      "огурцы 40 гр\n",
      "маслины 20 гр\n",
      "оливковое масло 40 мл\n",
      "салат 20 гр\n",
      "перец 40 гр\n",
      "\n",
      "\n",
      "Пицца\n",
      "сыр 40 гр\n",
      "колбаса 60 гр\n",
      "бекон 60 гр\n",
      "оливки 20 гр\n",
      "томаты 40 гр\n",
      "тесто 200 гр\n",
      "\n",
      "\n",
      "Лимонад\n",
      "лимон 2 шт\n",
      "вода 400 мл\n",
      "сахар 20 гр\n",
      "лайм 40 гр\n",
      "\n",
      "\n"
     ]
    }
   ],
   "source": [
    "person=int(input('Введите количество персон '))\n",
    "cook_book = {\n",
    "  'салат': [\n",
    "    {'ingridient_name': 'сыр', 'quantity': 50, 'measure': 'гр'},\n",
    "     {'ingridient_name': 'томаты', 'quantity': 2, 'measure': 'шт'},\n",
    "     {'ingridient_name': 'огурцы', 'quantity': 20, 'measure': 'гр'},\n",
    "     {'ingridient_name': 'маслины', 'quantity': 10, 'measure': 'гр'},\n",
    "     {'ingridient_name': 'оливковое масло', 'quantity': 20, 'measure': 'мл'},\n",
    "     {'ingridient_name': 'салат', 'quantity': 10, 'measure': 'гр'},\n",
    "     {'ingridient_name': 'перец', 'quantity': 20, 'measure': 'гр'}\n",
    "    ],\n",
    "  'пицца': [\n",
    "    {'ingridient_name': 'сыр', 'quantity': 20, 'measure': 'гр'},\n",
    "     {'ingridient_name': 'колбаса', 'quantity': 30, 'measure': 'гр'},\n",
    "     {'ingridient_name': 'бекон', 'quantity': 30, 'measure': 'гр'},\n",
    "     {'ingridient_name': 'оливки', 'quantity': 10, 'measure': 'гр'},\n",
    "     {'ingridient_name': 'томаты', 'quantity': 20, 'measure': 'гр'},\n",
    "     {'ingridient_name': 'тесто', 'quantity': 100, 'measure': 'гр'},   \n",
    "    ],\n",
    "  'лимонад': [\n",
    "     {'ingridient_name': 'лимон', 'quantity': 1, 'measure': 'шт'},\n",
    "     {'ingridient_name': 'вода', 'quantity': 200, 'measure': 'мл'},\n",
    "     {'ingridient_name': 'сахар', 'quantity': 10, 'measure': 'гр'},\n",
    "     {'ingridient_name': 'лайм', 'quantity': 20, 'measure': 'гр'},    \n",
    "    ]\n",
    "}\n",
    "for recipes, values in cook_book.items():\n",
    "    print(recipes.capitalize())\n",
    "    for ingridient in values:\n",
    "        print(ingridient['ingridient_name'], ingridient['quantity']*person, ingridient['measure'])\n",
    "    print('\\n')"
   ]
  }
 ],
 "metadata": {
  "kernelspec": {
   "display_name": "Python 3 (ipykernel)",
   "language": "python",
   "name": "python3"
  },
  "language_info": {
   "codemirror_mode": {
    "name": "ipython",
    "version": 3
   },
   "file_extension": ".py",
   "mimetype": "text/x-python",
   "name": "python",
   "nbconvert_exporter": "python",
   "pygments_lexer": "ipython3",
   "version": "3.9.12"
  }
 },
 "nbformat": 4,
 "nbformat_minor": 5
}
