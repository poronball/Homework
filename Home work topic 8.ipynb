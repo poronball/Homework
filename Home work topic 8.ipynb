{
 "cells": [
  {
   "cell_type": "code",
   "execution_count": 2,
   "id": "1747b348",
   "metadata": {},
   "outputs": [],
   "source": [
    "import re"
   ]
  },
  {
   "cell_type": "markdown",
   "id": "4e27aaa7",
   "metadata": {},
   "source": [
    "Задание 1."
   ]
  },
  {
   "cell_type": "code",
   "execution_count": 120,
   "id": "ce06cbdf",
   "metadata": {},
   "outputs": [
    {
     "name": "stdout",
     "output_type": "stream",
     "text": [
      "Номе А222BС96 валиден. Регион: 96\n"
     ]
    }
   ],
   "source": [
    "car_id = 'А222BС96'\n",
    "# car_id = 'АБ22ВВ193'\n",
    "\n",
    "result = re.findall(r'\\w{1}\\d{3}\\w{2}\\d{2}', car_id)\n",
    "region = re.findall(r'(?<=\\w{1}\\d{3}\\w{2})\\d{2}', car_id)\n",
    "result = (' ').join(result)\n",
    "\n",
    "if result == car_id:\n",
    "    print(f'Номе {car_id} валиден. Регион: {region[0]}')\n",
    "else:\n",
    "    print('Номер не валиден ')"
   ]
  },
  {
   "cell_type": "markdown",
   "id": "751e86c8",
   "metadata": {},
   "source": [
    "Задание 2."
   ]
  },
  {
   "cell_type": "code",
   "execution_count": 403,
   "id": "3320eee7",
   "metadata": {},
   "outputs": [
    {
     "name": "stdout",
     "output_type": "stream",
     "text": [
      "Напишите функцию, которая будет удалять все последовательные повторы слов из заданной строки при помощи регулярных выражений\n"
     ]
    }
   ],
   "source": [
    "def del_repeat_word():\n",
    "    some_string = 'Напишите функцию функцию, которая будет будет будет будет удалять все все все все последовательные повторы слов из из из из заданной строки строки при помощи регулярных выражений'\n",
    "    del_repeat = re.sub(r'(\\w+\\s)\\1+', r'\\1',some_string)\n",
    "    final_del_repeat = re.sub(r'(\\b\\w+\\b)\\s+\\b\\1+\\b', r'\\1', del_repeat)\n",
    "    print(final_del_repeat)\n",
    "del_repeat_word()"
   ]
  }
 ],
 "metadata": {
  "kernelspec": {
   "display_name": "Python 3 (ipykernel)",
   "language": "python",
   "name": "python3"
  },
  "language_info": {
   "codemirror_mode": {
    "name": "ipython",
    "version": 3
   },
   "file_extension": ".py",
   "mimetype": "text/x-python",
   "name": "python",
   "nbconvert_exporter": "python",
   "pygments_lexer": "ipython3",
   "version": "3.9.12"
  }
 },
 "nbformat": 4,
 "nbformat_minor": 5
}
