{
 "cells": [
  {
   "cell_type": "code",
   "execution_count": 105,
   "id": "c22bbe1f",
   "metadata": {},
   "outputs": [
    {
     "name": "stdout",
     "output_type": "stream",
     "text": [
      "Введите слово test\n",
      "es\n"
     ]
    }
   ],
   "source": [
    "word = str(input('Введите слово '))\n",
    "owerview_list = []\n",
    "count = 0\n",
    "for index in word:\n",
    "    owerview_list.append(index)\n",
    "    count += 1\n",
    "if count % 2 == 0:\n",
    "    count1 = (count // 2) - 1\n",
    "    count2 = (count // 2) + 1\n",
    "    print(''.join (owerview_list[count1: count2]))\n",
    "else:\n",
    "    count = (count // 2)\n",
    "    print(''.join (owerview_list[count]))"
   ]
  },
  {
   "cell_type": "code",
   "execution_count": 107,
   "id": "822da412",
   "metadata": {},
   "outputs": [
    {
     "name": "stdout",
     "output_type": "stream",
     "text": [
      "Идеальные пары: \n",
      "Alex и Emma\n",
      "Arthur и Kate\n",
      "John и Kira\n",
      "Peter и Liza\n",
      "Richard и Trisha\n"
     ]
    }
   ],
   "source": [
    "import copy\n",
    "boys = ['Peter', 'Alex', 'John', 'Arthur', 'Richard'] \n",
    "girls = ['Kate', 'Liza', 'Kira', 'Emma', 'Trisha'] \n",
    "index_boys = len(boys)\n",
    "index_girls = len(girls)\n",
    "boys = sorted(boys)\n",
    "girls = sorted(girls)\n",
    "count = 0\n",
    "if index_boys == index_girls:\n",
    "    print('Идеальные пары: ')\n",
    "    for index in boys:\n",
    "        print(f\"{boys[count]} и {girls[count]}\")\n",
    "        count += 1\n",
    "else:\n",
    "    print(' Внимание, кто-то может остаться без пары!')"
   ]
  },
  {
   "cell_type": "code",
   "execution_count": null,
   "id": "6b473823",
   "metadata": {},
   "outputs": [],
   "source": []
  }
 ],
 "metadata": {
  "kernelspec": {
   "display_name": "Python 3 (ipykernel)",
   "language": "python",
   "name": "python3"
  },
  "language_info": {
   "codemirror_mode": {
    "name": "ipython",
    "version": 3
   },
   "file_extension": ".py",
   "mimetype": "text/x-python",
   "name": "python",
   "nbconvert_exporter": "python",
   "pygments_lexer": "ipython3",
   "version": "3.9.12"
  }
 },
 "nbformat": 4,
 "nbformat_minor": 5
}
