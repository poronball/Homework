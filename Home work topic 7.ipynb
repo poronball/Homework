{
 "cells": [
  {
   "cell_type": "markdown",
   "id": "e5a670f0",
   "metadata": {},
   "source": [
    "Импорт"
   ]
  },
  {
   "cell_type": "code",
   "execution_count": 6,
   "id": "e94bbb48",
   "metadata": {},
   "outputs": [],
   "source": [
    "import requests\n",
    "full_data = requests.get('https://www.cbr-xml-daily.ru/daily_json.js').json() # Вынес по причине задержек ответа на запрос.\n",
    "# print(full_data)\n",
    "# type(full_data)"
   ]
  },
  {
   "cell_type": "markdown",
   "id": "4a222f14",
   "metadata": {},
   "source": [
    "Задание 1.\n",
    "Напишите функцию, которая возвращает название валюты (поле 'Name') с максимальным значением курса"
   ]
  },
  {
   "cell_type": "code",
   "execution_count": 7,
   "id": "b4dfa81d",
   "metadata": {},
   "outputs": [
    {
     "name": "stdout",
     "output_type": "stream",
     "text": [
      "Введите аббревиатуру валюты (Пример - USD): USD\n"
     ]
    },
    {
     "data": {
      "text/plain": [
       "('Доллар США', 60.2179)"
      ]
     },
     "execution_count": 7,
     "metadata": {},
     "output_type": "execute_result"
    }
   ],
   "source": [
    "def currency_NV():\n",
    "    currency_abb = input('Введите аббревиатуру валюты (Пример - USD): ')\n",
    "    currency_abb = currency_abb.upper()\n",
    "    return full_data['Valute'][currency_abb]['Name'], full_data['Valute'][currency_abb]['Value']\n",
    "currency_NV()"
   ]
  },
  {
   "cell_type": "markdown",
   "id": "94689f6b",
   "metadata": {},
   "source": [
    "Задание 2.\n",
    "\n",
    "Добавьте в класс Rate параметр diff (со значениями True или False)\n",
    "В случае значения True в методах курсов валют (eur, usd итд) будет возвращать не курс валюты, а изменение по сравнению в прошлым значением.\n",
    "Считайте, self.diff будет принимать значение True только при возврате значения курса. \n",
    "При отображении всей информации о валюте он не используется."
   ]
  },
  {
   "cell_type": "code",
   "execution_count": 8,
   "id": "3b1adef5",
   "metadata": {},
   "outputs": [],
   "source": [
    "class Rate:\n",
    "    \"\"\"\n",
    "    \n",
    "    \"\"\"\n",
    "    \n",
    "    def __init__(self, diff_ = True):\n",
    "        self.diff = diff_ \n",
    "              \n",
    "    def currency_diff(self):\n",
    "        \"\"\"\n",
    "        Когда передан параметр diff = True выводит разницу по сравнению в прошлым значением.\n",
    "        Когда передан параметр diff = False выводит полное информацию о валюте.\n",
    "        \"\"\"\n",
    "        if self.diff == True:\n",
    "            currency_abb = input('Введите аббревиатуру валюты (Пример - USD): ')\n",
    "            currency_abb = currency_abb.upper()\n",
    "            arg1 = full_data['Valute'][currency_abb]['Value']\n",
    "            arg2 = full_data['Valute'][currency_abb]['Previous']\n",
    "            return round(arg1 - arg2, 3)\n",
    "        else:\n",
    "            currency_abb = input('Введите аббревиатуру валюты (Пример - USD): ')\n",
    "            currency_abb = currency_abb.upper()\n",
    "            return full_data['Valute'][currency_abb]"
   ]
  },
  {
   "cell_type": "code",
   "execution_count": 9,
   "id": "120aec19",
   "metadata": {},
   "outputs": [
    {
     "name": "stdout",
     "output_type": "stream",
     "text": [
      "Введите аббревиатуру валюты (Пример - USD): USD\n"
     ]
    },
    {
     "data": {
      "text/plain": [
       "{'ID': 'R01235',\n",
       " 'NumCode': '840',\n",
       " 'CharCode': 'USD',\n",
       " 'Nominal': 1,\n",
       " 'Name': 'Доллар США',\n",
       " 'Value': 60.2179,\n",
       " 'Previous': 61.2434}"
      ]
     },
     "execution_count": 9,
     "metadata": {},
     "output_type": "execute_result"
    }
   ],
   "source": [
    "arg = Rate(diff_ = False)\n",
    "arg.currency_diff()"
   ]
  },
  {
   "cell_type": "markdown",
   "id": "a10ac0a1",
   "metadata": {},
   "source": [
    "Задание 3.\n",
    "Напишите класс Designer, который учитывает количество международных премий. Подсказки в коде занятия в разделе \"Домашнее задание задача 3\".\n",
    "\n",
    "**Комментарий по классу Designer такой:**\n",
    "Напишите класс Designer, который учитывает количество международных премий для дизайнеров (из презентации: \"Повышение на 1 грейд за каждые 7 баллов. Получение международной премии – это +2 балла\"). Считайте, что при выходе на работу сотрудник уже имеет две премии и их количество не меняется со стажем (конечно если хотите это можно вручную менять).\n",
    "\n",
    "Класс Designer пишется по аналогии с классом Developer из материалов занятия. Комментарий про его условия Вика написала выше: “Повышение на 1 грейд за каждые 7 баллов. Получение международной премии – это +2 балла”\n"
   ]
  },
  {
   "cell_type": "code",
   "execution_count": 51,
   "id": "3c13c718",
   "metadata": {},
   "outputs": [],
   "source": [
    "class Employee:\n",
    "    def __init__(self, name, seniority, awards):\n",
    "        self.name = name\n",
    "        self.seniority = seniority\n",
    "        self.awards = awards\n",
    "        self.grade = 0\n",
    "        \n",
    "    def grade_up(self):\n",
    "        \"\"\"Повышает уровень сотрудника\"\"\"\n",
    "        self.grade += 1\n",
    "    \n",
    "    def publish_grade(self):\n",
    "        \"\"\"Публикация результатов аккредитации сотрудников\"\"\"\n",
    "        print(self.name, self.grade)\n",
    "    \n",
    "    def check_if_it_is_time_for_upgrade(self):\n",
    "        pass"
   ]
  },
  {
   "cell_type": "code",
   "execution_count": 57,
   "id": "3d6269b3",
   "metadata": {},
   "outputs": [],
   "source": [
    "class Designer(Employee):\n",
    "    \"\"\"\n",
    "    Повышение на 1 грейд за каждые 7 баллов. Получение международной премии – это +2 балла\").\n",
    "    Считайте, что при выходе на работу сотрудник уже имеет две премии и их количество не меняется со стажем \n",
    "    (конечно если хотите это можно вручную менять)\n",
    "    \"\"\"\n",
    "\n",
    "    def __init__(self, name, seniority, awards):\n",
    "        super().__init__(name, seniority, awards)\n",
    "        \n",
    "    def check_if_it_is_time_for_upgrade(self):\n",
    "        self.seniority += 1\n",
    "        \n",
    "        if (self.seniority + 2 * self.awards) % 7 == 0:\n",
    "            self.grade_up()\n",
    "        return self.publish_grade()\n"
   ]
  },
  {
   "cell_type": "code",
   "execution_count": 58,
   "id": "b5809371",
   "metadata": {},
   "outputs": [
    {
     "name": "stdout",
     "output_type": "stream",
     "text": [
      "Елена 0\n",
      "Елена 0\n",
      "Елена 1\n",
      "Елена 1\n",
      "Елена 1\n",
      "Елена 1\n",
      "Елена 1\n",
      "Елена 1\n",
      "Елена 1\n",
      "Елена 2\n",
      "Елена 2\n",
      "Елена 2\n",
      "Елена 2\n",
      "Елена 2\n",
      "Елена 2\n",
      "Елена 2\n",
      "Елена 3\n",
      "Елена 3\n",
      "Елена 3\n",
      "Елена 3\n"
     ]
    }
   ],
   "source": [
    "elena = Designer('Елена', seniority=0, awards=2)\n",
    "\n",
    "for i in range(20):\n",
    "    elena.check_if_it_is_time_for_upgrade()"
   ]
  },
  {
   "cell_type": "code",
   "execution_count": null,
   "id": "6634a002",
   "metadata": {},
   "outputs": [],
   "source": []
  }
 ],
 "metadata": {
  "kernelspec": {
   "display_name": "Python 3 (ipykernel)",
   "language": "python",
   "name": "python3"
  },
  "language_info": {
   "codemirror_mode": {
    "name": "ipython",
    "version": 3
   },
   "file_extension": ".py",
   "mimetype": "text/x-python",
   "name": "python",
   "nbconvert_exporter": "python",
   "pygments_lexer": "ipython3",
   "version": "3.9.12"
  }
 },
 "nbformat": 4,
 "nbformat_minor": 5
}
