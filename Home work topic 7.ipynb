{
 "cells": [
  {
   "cell_type": "markdown",
   "id": "fba69de3",
   "metadata": {},
   "source": [
    "Импорт"
   ]
  },
  {
   "cell_type": "code",
   "execution_count": 136,
   "id": "22e6d548",
   "metadata": {},
   "outputs": [],
   "source": [
    "import requests\n",
    "full_data = requests.get('https://www.cbr-xml-daily.ru/daily_json.js').json() # Вынес по причине задержек ответа на запрос.\n",
    "# print(full_data)\n",
    "# type(full_data)"
   ]
  },
  {
   "cell_type": "markdown",
   "id": "f1c1b37c",
   "metadata": {},
   "source": [
    "Задание 1.\n",
    "Напишите функцию, которая возвращает название валюты (поле 'Name') с максимальным значением курса"
   ]
  },
  {
   "cell_type": "code",
   "execution_count": 110,
   "id": "c2a3bb52",
   "metadata": {},
   "outputs": [
    {
     "name": "stdout",
     "output_type": "stream",
     "text": [
      "Введите аббревиатуру валюты (Пример - USD): USD\n"
     ]
    },
    {
     "data": {
      "text/plain": [
       "('Доллар США', 61.5343)"
      ]
     },
     "execution_count": 110,
     "metadata": {},
     "output_type": "execute_result"
    }
   ],
   "source": [
    "def currency_NV():\n",
    "    currency_abb = input('Введите аббревиатуру валюты (Пример - USD): ')\n",
    "    currency_abb = currency_abb.upper()\n",
    "    return full_data['Valute'][currency_abb]['Name'], full_data['Valute'][currency_abb]['Value']\n",
    "currency_NV()"
   ]
  },
  {
   "cell_type": "markdown",
   "id": "2a176225",
   "metadata": {},
   "source": [
    "Задание 2.\n",
    "\n",
    "Добавьте в класс Rate параметр diff (со значениями True или False)\n",
    "В случае значения True в методах курсов валют (eur, usd итд) будет возвращать не курс валюты, а изменение по сравнению в прошлым значением.\n",
    "Считайте, self.diff будет принимать значение True только при возврате значения курса. \n",
    "При отображении всей информации о валюте он не используется."
   ]
  },
  {
   "cell_type": "code",
   "execution_count": 140,
   "id": "c09e9857",
   "metadata": {},
   "outputs": [],
   "source": [
    "class Rate:\n",
    "    \"\"\"\n",
    "    \n",
    "    \"\"\"\n",
    "    \n",
    "    def __init__(self, diff_ = True):\n",
    "        self.diff = diff_ \n",
    "              \n",
    "    def currency_diff(self):\n",
    "        \"\"\"\n",
    "        Когда передан параметр diff = True выводит разницу по сравнению в прошлым значением.\n",
    "        Когда передан параметр diff = False выводит полное информацию о валюте.\n",
    "        \"\"\"\n",
    "        if self.diff == True:\n",
    "            currency_abb = input('Введите аббревиатуру валюты (Пример - USD): ')\n",
    "            currency_abb = currency_abb.upper()\n",
    "            arg1 = full_data['Valute'][currency_abb]['Value']\n",
    "            arg2 = full_data['Valute'][currency_abb]['Previous']\n",
    "            return round(arg1 - arg2, 3)\n",
    "        else:\n",
    "            currency_abb = input('Введите аббревиатуру валюты (Пример - USD): ')\n",
    "            currency_abb = currency_abb.upper()\n",
    "            return full_data['Valute'][currency_abb]"
   ]
  },
  {
   "cell_type": "code",
   "execution_count": 141,
   "id": "5ab4112d",
   "metadata": {},
   "outputs": [
    {
     "name": "stdout",
     "output_type": "stream",
     "text": [
      "Введите аббревиатуру валюты (Пример - USD): usd\n"
     ]
    },
    {
     "data": {
      "text/plain": [
       "{'ID': 'R01235',\n",
       " 'NumCode': '840',\n",
       " 'CharCode': 'USD',\n",
       " 'Nominal': 1,\n",
       " 'Name': 'Доллар США',\n",
       " 'Value': 61.5343,\n",
       " 'Previous': 61.3589}"
      ]
     },
     "execution_count": 141,
     "metadata": {},
     "output_type": "execute_result"
    }
   ],
   "source": [
    "arg = Rate(diff_ = False)\n",
    "arg.currency_diff()"
   ]
  },
  {
   "cell_type": "markdown",
   "id": "03e55333",
   "metadata": {},
   "source": [
    "Задание 3.\n",
    "Напишите класс Designer, который учитывает количество международных премий. Подсказки в коде занятия в разделе \"Домашнее задание задача 3\".\n",
    "\n",
    "**Комментарий по классу Designer такой:**\n",
    "Напишите класс Designer, который учитывает количество международных премий для дизайнеров (из презентации: \"Повышение на 1 грейд за каждые 7 баллов. Получение международной премии – это +2 балла\"). Считайте, что при выходе на работу сотрудник уже имеет две премии и их количество не меняется со стажем (конечно если хотите это можно вручную менять).\n",
    "\n",
    "Класс Designer пишется по аналогии с классом Developer из материалов занятия. Комментарий про его условия Вика написала выше: “Повышение на 1 грейд за каждые 7 баллов. Получение международной премии – это +2 балла”\n"
   ]
  },
  {
   "cell_type": "code",
   "execution_count": 92,
   "id": "03b320d8",
   "metadata": {},
   "outputs": [],
   "source": [
    "class Employee:\n",
    "    def __init__(self, name, seniority, awards):\n",
    "        self.name = name\n",
    "        self.seniority = seniority\n",
    "        self.awards = awards\n",
    "        self.grade = 0\n",
    "        \n",
    "    def grade_up(self):\n",
    "        \"\"\"Повышает уровень сотрудника\"\"\"\n",
    "        self.grade += 1\n",
    "    \n",
    "    def publish_grade(self):\n",
    "        \"\"\"Публикация результатов аккредитации сотрудников\"\"\"\n",
    "        print(self.name, self.grade)\n",
    "    \n",
    "    def check_if_it_is_time_for_upgrade(self):\n",
    "        pass"
   ]
  },
  {
   "cell_type": "code",
   "execution_count": 114,
   "id": "b5287e0c",
   "metadata": {},
   "outputs": [],
   "source": [
    "class Designer(Employee):\n",
    "    \"\"\"\n",
    "    Повышение на 1 грейд за каждые 7 баллов. Получение международной премии – это +2 балла\").\n",
    "    Считайте, что при выходе на работу сотрудник уже имеет две премии и их количество не меняется со стажем \n",
    "    (конечно если хотите это можно вручную менять)\n",
    "    \"\"\"\n",
    "    def __init__(self, name, seniority, awards):\n",
    "        super().__init__(name, seniority, awards)\n",
    "\n",
    "    def check_if_it_is_time_for_upgrade(self): # Не понял как начисляются балы за грейд. за основу взял пример из видео.\n",
    "        self.seniority += 1\n",
    "        self.seniority = self.seniority + (self.awards*2) \n",
    "        if self.seniority % 7 == 0:\n",
    "            self.grade_up()\n",
    "        return self.publish_grade()\n",
    "          "
   ]
  },
  {
   "cell_type": "code",
   "execution_count": null,
   "id": "990e3e5c",
   "metadata": {},
   "outputs": [],
   "source": [
    "elena = Designer('Елена', seniority=0, awards=2)\n",
    "\n",
    "for i in range(20):\n",
    "    elena.check_if_it_is_time_for_upgrade()"
   ]
  }
 ],
 "metadata": {
  "kernelspec": {
   "display_name": "Python 3 (ipykernel)",
   "language": "python",
   "name": "python3"
  },
  "language_info": {
   "codemirror_mode": {
    "name": "ipython",
    "version": 3
   },
   "file_extension": ".py",
   "mimetype": "text/x-python",
   "name": "python",
   "nbconvert_exporter": "python",
   "pygments_lexer": "ipython3",
   "version": "3.9.12"
  }
 },
 "nbformat": 4,
 "nbformat_minor": 5
}
