{
 "cells": [
  {
   "cell_type": "code",
   "execution_count": 2,
   "id": "9e6f1a8d",
   "metadata": {},
   "outputs": [],
   "source": [
    "import os\n",
    "import json"
   ]
  },
  {
   "cell_type": "markdown",
   "id": "5116a469",
   "metadata": {},
   "source": [
    "Задание 1"
   ]
  },
  {
   "cell_type": "code",
   "execution_count": 92,
   "id": "b509db1c",
   "metadata": {},
   "outputs": [
    {
     "name": "stdout",
     "output_type": "stream",
     "text": [
      "purchases:\n",
      "1840e0b9d4 Продукты\n",
      "4e4f90fcfb Электроника\n",
      "afea8d72fc Электроника\n",
      "373a6055fe Бытовая техника\n"
     ]
    }
   ],
   "source": [
    "purchases = {}\n",
    "i = 1\n",
    "with open('purchase_log.txt', 'r', encoding = 'utf-8') as purchase_log:\n",
    "    print('purchases:')\n",
    "    for line in purchase_log:\n",
    "        line = line.strip()        \n",
    "        dict_json = json.loads(line)\n",
    "        purchases[dict_json['user_id']] = dict_json['category']\n",
    "        i += 1\n",
    "        if i > 5:\n",
    "            break\n",
    "    for key, value in purchases.items():\n",
    "        if key == 'user_id':\n",
    "            continue\n",
    "        print(key,value)\n"
   ]
  },
  {
   "cell_type": "code",
   "execution_count": null,
   "id": "6a8d4fbb",
   "metadata": {},
   "outputs": [],
   "source": [
    "Задание 2"
   ]
  },
  {
   "cell_type": "code",
   "execution_count": 90,
   "id": "e1e8c698",
   "metadata": {},
   "outputs": [
    {
     "name": "stdout",
     "output_type": "stream",
     "text": [
      "user_id,source,category\n",
      "\n",
      "6450655ae8,other,Продукты\n",
      "\n",
      "b4ea53e670,other,Электроника\n",
      "\n",
      "0e37347152,other,Электроника\n",
      "\n",
      "96064ae9e0,other,Бытовая техника\n",
      "\n",
      "e1bd168161,context,Электроника\n",
      "\n"
     ]
    }
   ],
   "source": [
    "i = 0\n",
    "visit_log = open('visit_log.csv', 'r', encoding = 'utf-8')\n",
    "funnel = open('funnel.csv', 'w',  encoding = 'utf-8')\n",
    "with open('purchase_log.txt', 'r', encoding = 'utf-8') as purchase_log:\n",
    "    for line in purchase_log:\n",
    "        line = line.strip()        \n",
    "        dict_json = json.loads(line)\n",
    "        for line2 in visit_log:\n",
    "            line2 = line2.strip()\n",
    "            line2 = line2 +\",\"+ dict_json['category'] + '\\n'\n",
    "            funnel.write(line2)\n",
    "            print(line2)\n",
    "            break\n",
    "        i += 1\n",
    "        if i > 5:\n",
    "            break\n",
    "\n",
    "funnel.close()\n"
   ]
  }
 ],
 "metadata": {
  "kernelspec": {
   "display_name": "Python 3 (ipykernel)",
   "language": "python",
   "name": "python3"
  },
  "language_info": {
   "codemirror_mode": {
    "name": "ipython",
    "version": 3
   },
   "file_extension": ".py",
   "mimetype": "text/x-python",
   "name": "python",
   "nbconvert_exporter": "python",
   "pygments_lexer": "ipython3",
   "version": "3.9.12"
  }
 },
 "nbformat": 4,
 "nbformat_minor": 5
}
